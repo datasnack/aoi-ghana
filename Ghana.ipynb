{
 "cells": [
  {
   "cell_type": "code",
   "execution_count": 2,
   "id": "a7fd9a77",
   "metadata": {},
   "outputs": [],
   "source": [
    "import pandas as pd\n",
    "import matplotlib.pyplot as plt\n",
    "import matplotlib.ticker as mtick\n",
    "\n",
    "import numpy as np\n",
    "import geopandas"
   ]
  },
  {
   "cell_type": "code",
   "execution_count": 7,
   "id": "3d47bec5",
   "metadata": {},
   "outputs": [],
   "source": [
    "gdf0 = geopandas.read_file('./gha_admbnda_gss_20210308_SHP/gha_admbnda_adm0_gss_20210308.shp')\n",
    "gdf1 = geopandas.read_file('./gha_admbnda_gss_20210308_SHP/gha_admbnda_adm1_gss_20210308.shp')\n",
    "gdf2 = geopandas.read_file('./gha_admbnda_gss_20210308_SHP/gha_admbnda_adm2_gss_20210308.shp')"
   ]
  },
  {
   "cell_type": "code",
   "execution_count": 25,
   "id": "844c0dc1",
   "metadata": {},
   "outputs": [
    {
     "name": "stdout",
     "output_type": "stream",
     "text": [
      "Ahafo\n",
      "Ashanti\n",
      "Bono\n",
      "Bono East\n",
      "Central\n",
      "Eastern\n",
      "Greater Accra\n",
      "Northern\n",
      "Northern East\n",
      "Oti\n",
      "Savannah\n",
      "Upper East\n",
      "Upper West\n",
      "Volta\n",
      "Western\n",
      "Western North\n"
     ]
    }
   ],
   "source": [
    "shapes = []\n",
    "shape_id = 1\n",
    "\n",
    "shapes.append({\n",
    "    'id':        shape_id,\n",
    "    'name':      'Ghana',\n",
    "    'type':      \"country\",\n",
    "    'parent_id': None,\n",
    "    'geometry':  gdf0.at[0, 'geometry'],\n",
    "    'properties': {\n",
    "        'adm': 0,\n",
    "        'pcode': gdf0.at[0,'ADM0_PCODE']\n",
    "    }\n",
    "})\n",
    "shape_id += 1\n",
    "\n",
    "for _, r in gdf1.iterrows():\n",
    "    print(r['ADM1_EN'])\n",
    "    \n",
    "    r_id = shape_id\n",
    "    shapes.append({\n",
    "        'id':        r_id,\n",
    "        'name':      r['ADM1_EN'],\n",
    "        'type':      \"region\",\n",
    "        'parent_id': 1,\n",
    "        'geometry':  r['geometry'],\n",
    "        'properties': {\n",
    "            'adm': 1,\n",
    "            'pcode': r['ADM1_PCODE']\n",
    "        }\n",
    "    })\n",
    "    shape_id += 1\n",
    "\n",
    "    gdfx = gdf2[gdf2['ADM1_PCODE'] == r['ADM1_PCODE']]\n",
    "    \n",
    "    for i, row in gdfx.iterrows():\n",
    "    \n",
    "        shapes.append({\n",
    "            'id':        shape_id,\n",
    "            'name':      row['ADM2_EN'],\n",
    "            'type':      \"district\",\n",
    "            'parent_id': r_id,\n",
    "            'geometry':  row.geometry,\n",
    "            'properties': {\n",
    "                'adm': 2,\n",
    "                'pcode': row['ADM2_PCODE']\n",
    "            }\n",
    "        })\n",
    "        shape_id += 1"
   ]
  },
  {
   "cell_type": "code",
   "execution_count": 26,
   "id": "166b712b",
   "metadata": {},
   "outputs": [],
   "source": [
    "dhdf = pd.DataFrame(shapes)\n",
    "dhgdf = geopandas.GeoDataFrame(dhdf, crs=\"EPSG:4326\", geometry='geometry')"
   ]
  },
  {
   "cell_type": "code",
   "execution_count": 27,
   "id": "10390947",
   "metadata": {},
   "outputs": [],
   "source": [
    "dhgdf.to_file('ghana.gpkg')"
   ]
  }
 ],
 "metadata": {
  "kernelspec": {
   "display_name": "Python 3 (ipykernel)",
   "language": "python",
   "name": "python3"
  },
  "language_info": {
   "codemirror_mode": {
    "name": "ipython",
    "version": 3
   },
   "file_extension": ".py",
   "mimetype": "text/x-python",
   "name": "python",
   "nbconvert_exporter": "python",
   "pygments_lexer": "ipython3",
   "version": "3.11.7"
  }
 },
 "nbformat": 4,
 "nbformat_minor": 5
}
